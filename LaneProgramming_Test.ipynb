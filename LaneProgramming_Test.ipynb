{
 "cells": [
  {
   "cell_type": "code",
   "execution_count": 2,
   "metadata": {},
   "outputs": [],
   "source": [
    "import matplotlib.pyplot as plt\n",
    "import matplotlib.image as mpimg\n",
    "import numpy as np\n",
    "import cv2\n",
    "%matplotlib inline\n",
    "import os\n",
    "os.listdir(\"test_images/\")\n",
    "from moviepy.editor import VideoFileClip\n",
    "from IPython.display import HTML\n",
    "import tensorflow as tf\n",
    "import math\n",
    "import os\n"
   ]
  },
  {
   "cell_type": "code",
   "execution_count": 45,
   "metadata": {},
   "outputs": [
    {
     "name": "stdout",
     "output_type": "stream",
     "text": [
      "[2.3333333333333335, 1.1428571428571428, 1.75, 0.375]\n",
      "[5.75  5.875]\n",
      "[4. 4.]\n"
     ]
    }
   ],
   "source": [
    "line1 =[2,4,5,11]\n",
    "line2 =[1,1,8,9]\n",
    "line3 =[6,5,10,12] \n",
    "line4 =[3,1,11,4]\n",
    "line5 =[2,6,6,2]\n",
    "line6 =[1,3,1,8]\n",
    "lines = [line1,line2,line3,line4,line5,line6]\n",
    "#print(lines)\n",
    "\n",
    "rm = []\n",
    "lm = []\n",
    "rc = []\n",
    "lc = []\n",
    "\n",
    "for line in lines:\n",
    "    x1=line[0]\n",
    "    y1=line[1]\n",
    "    x2=line[2]\n",
    "    y2=line[3]\n",
    "    if ((x2-x1)==0):\n",
    "    \n",
    "        None\n",
    "    else:\n",
    "        slope = (y2-y1)/(x2-x1)\n",
    "        \n",
    "        center = [(x2+x1)/2,(y2+y1)/2]\n",
    "        if (slope > 0): \n",
    "            rm.append(slope)\n",
    "            rc.append(center)\n",
    "        elif (slope < 0):\n",
    "            lm.append(slope)\n",
    "            lc.append(center)\n",
    "        else:\n",
    "            None\n",
    "r_slope = np.sum(rm)/len(rm)\n",
    "l_slope = np.sum(lm)/len(lm)\n",
    "\n",
    "r_center = np.divide(np.sum(rc,axis=0),len(rc))\n",
    "l_center = np.divide(np.sum(lc,axis=0),len(lc))\n",
    "print(rm)\n",
    "print(r_center)\n",
    "print(l_center)"
   ]
  },
  {
   "cell_type": "code",
   "execution_count": 46,
   "metadata": {},
   "outputs": [
    {
     "name": "stdout",
     "output_type": "stream",
     "text": [
      "[-1.0]\n",
      "[[3.5, 7.5], [4.5, 5.0], [8.0, 8.5], [7.0, 2.5]]\n",
      "[[4.0, 4.0]]\n"
     ]
    }
   ],
   "source": [
    "print(lm)\n",
    "print(rc)\n",
    "print(lc)"
   ]
  },
  {
   "cell_type": "code",
   "execution_count": null,
   "metadata": {},
   "outputs": [],
   "source": []
  }
 ],
 "metadata": {
  "kernelspec": {
   "display_name": "Python 3",
   "language": "python",
   "name": "python3"
  },
  "language_info": {
   "codemirror_mode": {
    "name": "ipython",
    "version": 3
   },
   "file_extension": ".py",
   "mimetype": "text/x-python",
   "name": "python",
   "nbconvert_exporter": "python",
   "pygments_lexer": "ipython3",
   "version": "3.6.4"
  }
 },
 "nbformat": 4,
 "nbformat_minor": 2
}
